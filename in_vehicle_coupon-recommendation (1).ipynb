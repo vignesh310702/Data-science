{
 "cells": [
  {
   "cell_type": "code",
   "execution_count": 1,
   "id": "770ffef1",
   "metadata": {},
   "outputs": [],
   "source": [
    "import numpy as np\n",
    "import pandas as pd\n",
    "import seaborn as sns\n",
    "import matplotlib.pyplot as plt\n",
    "from sklearn.linear_model import LogisticRegression \n",
    "from sklearn import svm \n",
    "from sklearn.tree import DecisionTreeClassifier\n",
    "from sklearn.naive_bayes import GaussianNB \n",
    "from sklearn.neighbors import KNeighborsClassifier \n",
    "from sklearn.preprocessing import LabelEncoder\n",
    "from sklearn.model_selection import train_test_split\n",
    "from sklearn.model_selection import cross_val_score\n",
    "from sklearn.model_selection import cross_val_predict\n",
    "from sklearn.model_selection import KFold\n",
    "from sklearn.metrics import confusion_matrix\n",
    "from sklearn.metrics import classification_report\n",
    "import statsmodels.api as sm\n",
    "sns.set(rc={'figure.figsize':(6,6)})"
   ]
  },
  {
   "cell_type": "code",
   "execution_count": 2,
   "id": "aac6d268",
   "metadata": {},
   "outputs": [],
   "source": [
    "data=pd.read_csv('in-vehicle-coupon-recommendation.csv')"
   ]
  },
  {
   "cell_type": "code",
   "execution_count": 3,
   "id": "14b6014c",
   "metadata": {
    "scrolled": false
   },
   "outputs": [
    {
     "data": {
      "text/html": [
       "<div>\n",
       "<style scoped>\n",
       "    .dataframe tbody tr th:only-of-type {\n",
       "        vertical-align: middle;\n",
       "    }\n",
       "\n",
       "    .dataframe tbody tr th {\n",
       "        vertical-align: top;\n",
       "    }\n",
       "\n",
       "    .dataframe thead th {\n",
       "        text-align: right;\n",
       "    }\n",
       "</style>\n",
       "<table border=\"1\" class=\"dataframe\">\n",
       "  <thead>\n",
       "    <tr style=\"text-align: right;\">\n",
       "      <th></th>\n",
       "      <th>destination</th>\n",
       "      <th>passanger</th>\n",
       "      <th>weather</th>\n",
       "      <th>temperature</th>\n",
       "      <th>time</th>\n",
       "      <th>coupon</th>\n",
       "      <th>expiration</th>\n",
       "      <th>gender</th>\n",
       "      <th>age</th>\n",
       "      <th>maritalStatus</th>\n",
       "      <th>...</th>\n",
       "      <th>CoffeeHouse</th>\n",
       "      <th>CarryAway</th>\n",
       "      <th>RestaurantLessThan20</th>\n",
       "      <th>Restaurant20To50</th>\n",
       "      <th>toCoupon_GEQ5min</th>\n",
       "      <th>toCoupon_GEQ15min</th>\n",
       "      <th>toCoupon_GEQ25min</th>\n",
       "      <th>direction_same</th>\n",
       "      <th>direction_opp</th>\n",
       "      <th>Y</th>\n",
       "    </tr>\n",
       "  </thead>\n",
       "  <tbody>\n",
       "    <tr>\n",
       "      <th>0</th>\n",
       "      <td>No Urgent Place</td>\n",
       "      <td>Alone</td>\n",
       "      <td>Sunny</td>\n",
       "      <td>55</td>\n",
       "      <td>2PM</td>\n",
       "      <td>Restaurant(&lt;20)</td>\n",
       "      <td>1d</td>\n",
       "      <td>Female</td>\n",
       "      <td>21</td>\n",
       "      <td>Unmarried partner</td>\n",
       "      <td>...</td>\n",
       "      <td>never</td>\n",
       "      <td>NaN</td>\n",
       "      <td>4~8</td>\n",
       "      <td>1~3</td>\n",
       "      <td>1</td>\n",
       "      <td>0</td>\n",
       "      <td>0</td>\n",
       "      <td>0</td>\n",
       "      <td>1</td>\n",
       "      <td>1</td>\n",
       "    </tr>\n",
       "    <tr>\n",
       "      <th>1</th>\n",
       "      <td>No Urgent Place</td>\n",
       "      <td>Friend(s)</td>\n",
       "      <td>Sunny</td>\n",
       "      <td>80</td>\n",
       "      <td>10AM</td>\n",
       "      <td>Coffee House</td>\n",
       "      <td>2h</td>\n",
       "      <td>Female</td>\n",
       "      <td>21</td>\n",
       "      <td>Unmarried partner</td>\n",
       "      <td>...</td>\n",
       "      <td>never</td>\n",
       "      <td>NaN</td>\n",
       "      <td>4~8</td>\n",
       "      <td>1~3</td>\n",
       "      <td>1</td>\n",
       "      <td>0</td>\n",
       "      <td>0</td>\n",
       "      <td>0</td>\n",
       "      <td>1</td>\n",
       "      <td>0</td>\n",
       "    </tr>\n",
       "    <tr>\n",
       "      <th>2</th>\n",
       "      <td>No Urgent Place</td>\n",
       "      <td>Friend(s)</td>\n",
       "      <td>Sunny</td>\n",
       "      <td>80</td>\n",
       "      <td>10AM</td>\n",
       "      <td>Carry out &amp; Take away</td>\n",
       "      <td>2h</td>\n",
       "      <td>Female</td>\n",
       "      <td>21</td>\n",
       "      <td>Unmarried partner</td>\n",
       "      <td>...</td>\n",
       "      <td>never</td>\n",
       "      <td>NaN</td>\n",
       "      <td>4~8</td>\n",
       "      <td>1~3</td>\n",
       "      <td>1</td>\n",
       "      <td>1</td>\n",
       "      <td>0</td>\n",
       "      <td>0</td>\n",
       "      <td>1</td>\n",
       "      <td>1</td>\n",
       "    </tr>\n",
       "    <tr>\n",
       "      <th>3</th>\n",
       "      <td>No Urgent Place</td>\n",
       "      <td>Friend(s)</td>\n",
       "      <td>Sunny</td>\n",
       "      <td>80</td>\n",
       "      <td>2PM</td>\n",
       "      <td>Coffee House</td>\n",
       "      <td>2h</td>\n",
       "      <td>Female</td>\n",
       "      <td>21</td>\n",
       "      <td>Unmarried partner</td>\n",
       "      <td>...</td>\n",
       "      <td>never</td>\n",
       "      <td>NaN</td>\n",
       "      <td>4~8</td>\n",
       "      <td>1~3</td>\n",
       "      <td>1</td>\n",
       "      <td>1</td>\n",
       "      <td>0</td>\n",
       "      <td>0</td>\n",
       "      <td>1</td>\n",
       "      <td>0</td>\n",
       "    </tr>\n",
       "    <tr>\n",
       "      <th>4</th>\n",
       "      <td>No Urgent Place</td>\n",
       "      <td>Friend(s)</td>\n",
       "      <td>Sunny</td>\n",
       "      <td>80</td>\n",
       "      <td>2PM</td>\n",
       "      <td>Coffee House</td>\n",
       "      <td>1d</td>\n",
       "      <td>Female</td>\n",
       "      <td>21</td>\n",
       "      <td>Unmarried partner</td>\n",
       "      <td>...</td>\n",
       "      <td>never</td>\n",
       "      <td>NaN</td>\n",
       "      <td>4~8</td>\n",
       "      <td>1~3</td>\n",
       "      <td>1</td>\n",
       "      <td>1</td>\n",
       "      <td>0</td>\n",
       "      <td>0</td>\n",
       "      <td>1</td>\n",
       "      <td>0</td>\n",
       "    </tr>\n",
       "    <tr>\n",
       "      <th>...</th>\n",
       "      <td>...</td>\n",
       "      <td>...</td>\n",
       "      <td>...</td>\n",
       "      <td>...</td>\n",
       "      <td>...</td>\n",
       "      <td>...</td>\n",
       "      <td>...</td>\n",
       "      <td>...</td>\n",
       "      <td>...</td>\n",
       "      <td>...</td>\n",
       "      <td>...</td>\n",
       "      <td>...</td>\n",
       "      <td>...</td>\n",
       "      <td>...</td>\n",
       "      <td>...</td>\n",
       "      <td>...</td>\n",
       "      <td>...</td>\n",
       "      <td>...</td>\n",
       "      <td>...</td>\n",
       "      <td>...</td>\n",
       "      <td>...</td>\n",
       "    </tr>\n",
       "    <tr>\n",
       "      <th>12679</th>\n",
       "      <td>Home</td>\n",
       "      <td>Partner</td>\n",
       "      <td>Rainy</td>\n",
       "      <td>55</td>\n",
       "      <td>6PM</td>\n",
       "      <td>Carry out &amp; Take away</td>\n",
       "      <td>1d</td>\n",
       "      <td>Male</td>\n",
       "      <td>26</td>\n",
       "      <td>Single</td>\n",
       "      <td>...</td>\n",
       "      <td>never</td>\n",
       "      <td>1~3</td>\n",
       "      <td>4~8</td>\n",
       "      <td>1~3</td>\n",
       "      <td>1</td>\n",
       "      <td>0</td>\n",
       "      <td>0</td>\n",
       "      <td>1</td>\n",
       "      <td>0</td>\n",
       "      <td>1</td>\n",
       "    </tr>\n",
       "    <tr>\n",
       "      <th>12680</th>\n",
       "      <td>Work</td>\n",
       "      <td>Alone</td>\n",
       "      <td>Rainy</td>\n",
       "      <td>55</td>\n",
       "      <td>7AM</td>\n",
       "      <td>Carry out &amp; Take away</td>\n",
       "      <td>1d</td>\n",
       "      <td>Male</td>\n",
       "      <td>26</td>\n",
       "      <td>Single</td>\n",
       "      <td>...</td>\n",
       "      <td>never</td>\n",
       "      <td>1~3</td>\n",
       "      <td>4~8</td>\n",
       "      <td>1~3</td>\n",
       "      <td>1</td>\n",
       "      <td>0</td>\n",
       "      <td>0</td>\n",
       "      <td>0</td>\n",
       "      <td>1</td>\n",
       "      <td>1</td>\n",
       "    </tr>\n",
       "    <tr>\n",
       "      <th>12681</th>\n",
       "      <td>Work</td>\n",
       "      <td>Alone</td>\n",
       "      <td>Snowy</td>\n",
       "      <td>30</td>\n",
       "      <td>7AM</td>\n",
       "      <td>Coffee House</td>\n",
       "      <td>1d</td>\n",
       "      <td>Male</td>\n",
       "      <td>26</td>\n",
       "      <td>Single</td>\n",
       "      <td>...</td>\n",
       "      <td>never</td>\n",
       "      <td>1~3</td>\n",
       "      <td>4~8</td>\n",
       "      <td>1~3</td>\n",
       "      <td>1</td>\n",
       "      <td>0</td>\n",
       "      <td>0</td>\n",
       "      <td>1</td>\n",
       "      <td>0</td>\n",
       "      <td>0</td>\n",
       "    </tr>\n",
       "    <tr>\n",
       "      <th>12682</th>\n",
       "      <td>Work</td>\n",
       "      <td>Alone</td>\n",
       "      <td>Snowy</td>\n",
       "      <td>30</td>\n",
       "      <td>7AM</td>\n",
       "      <td>Bar</td>\n",
       "      <td>1d</td>\n",
       "      <td>Male</td>\n",
       "      <td>26</td>\n",
       "      <td>Single</td>\n",
       "      <td>...</td>\n",
       "      <td>never</td>\n",
       "      <td>1~3</td>\n",
       "      <td>4~8</td>\n",
       "      <td>1~3</td>\n",
       "      <td>1</td>\n",
       "      <td>1</td>\n",
       "      <td>1</td>\n",
       "      <td>0</td>\n",
       "      <td>1</td>\n",
       "      <td>0</td>\n",
       "    </tr>\n",
       "    <tr>\n",
       "      <th>12683</th>\n",
       "      <td>Work</td>\n",
       "      <td>Alone</td>\n",
       "      <td>Sunny</td>\n",
       "      <td>80</td>\n",
       "      <td>7AM</td>\n",
       "      <td>Restaurant(20-50)</td>\n",
       "      <td>2h</td>\n",
       "      <td>Male</td>\n",
       "      <td>26</td>\n",
       "      <td>Single</td>\n",
       "      <td>...</td>\n",
       "      <td>never</td>\n",
       "      <td>1~3</td>\n",
       "      <td>4~8</td>\n",
       "      <td>1~3</td>\n",
       "      <td>1</td>\n",
       "      <td>0</td>\n",
       "      <td>0</td>\n",
       "      <td>1</td>\n",
       "      <td>0</td>\n",
       "      <td>0</td>\n",
       "    </tr>\n",
       "  </tbody>\n",
       "</table>\n",
       "<p>12684 rows × 26 columns</p>\n",
       "</div>"
      ],
      "text/plain": [
       "           destination  passanger weather  temperature  time  \\\n",
       "0      No Urgent Place      Alone   Sunny           55   2PM   \n",
       "1      No Urgent Place  Friend(s)   Sunny           80  10AM   \n",
       "2      No Urgent Place  Friend(s)   Sunny           80  10AM   \n",
       "3      No Urgent Place  Friend(s)   Sunny           80   2PM   \n",
       "4      No Urgent Place  Friend(s)   Sunny           80   2PM   \n",
       "...                ...        ...     ...          ...   ...   \n",
       "12679             Home    Partner   Rainy           55   6PM   \n",
       "12680             Work      Alone   Rainy           55   7AM   \n",
       "12681             Work      Alone   Snowy           30   7AM   \n",
       "12682             Work      Alone   Snowy           30   7AM   \n",
       "12683             Work      Alone   Sunny           80   7AM   \n",
       "\n",
       "                      coupon expiration  gender age      maritalStatus  ...  \\\n",
       "0            Restaurant(<20)         1d  Female  21  Unmarried partner  ...   \n",
       "1               Coffee House         2h  Female  21  Unmarried partner  ...   \n",
       "2      Carry out & Take away         2h  Female  21  Unmarried partner  ...   \n",
       "3               Coffee House         2h  Female  21  Unmarried partner  ...   \n",
       "4               Coffee House         1d  Female  21  Unmarried partner  ...   \n",
       "...                      ...        ...     ...  ..                ...  ...   \n",
       "12679  Carry out & Take away         1d    Male  26             Single  ...   \n",
       "12680  Carry out & Take away         1d    Male  26             Single  ...   \n",
       "12681           Coffee House         1d    Male  26             Single  ...   \n",
       "12682                    Bar         1d    Male  26             Single  ...   \n",
       "12683      Restaurant(20-50)         2h    Male  26             Single  ...   \n",
       "\n",
       "       CoffeeHouse CarryAway RestaurantLessThan20 Restaurant20To50  \\\n",
       "0            never       NaN                  4~8              1~3   \n",
       "1            never       NaN                  4~8              1~3   \n",
       "2            never       NaN                  4~8              1~3   \n",
       "3            never       NaN                  4~8              1~3   \n",
       "4            never       NaN                  4~8              1~3   \n",
       "...            ...       ...                  ...              ...   \n",
       "12679        never       1~3                  4~8              1~3   \n",
       "12680        never       1~3                  4~8              1~3   \n",
       "12681        never       1~3                  4~8              1~3   \n",
       "12682        never       1~3                  4~8              1~3   \n",
       "12683        never       1~3                  4~8              1~3   \n",
       "\n",
       "      toCoupon_GEQ5min toCoupon_GEQ15min toCoupon_GEQ25min direction_same  \\\n",
       "0                    1                 0                 0              0   \n",
       "1                    1                 0                 0              0   \n",
       "2                    1                 1                 0              0   \n",
       "3                    1                 1                 0              0   \n",
       "4                    1                 1                 0              0   \n",
       "...                ...               ...               ...            ...   \n",
       "12679                1                 0                 0              1   \n",
       "12680                1                 0                 0              0   \n",
       "12681                1                 0                 0              1   \n",
       "12682                1                 1                 1              0   \n",
       "12683                1                 0                 0              1   \n",
       "\n",
       "      direction_opp  Y  \n",
       "0                 1  1  \n",
       "1                 1  0  \n",
       "2                 1  1  \n",
       "3                 1  0  \n",
       "4                 1  0  \n",
       "...             ... ..  \n",
       "12679             0  1  \n",
       "12680             1  1  \n",
       "12681             0  0  \n",
       "12682             1  0  \n",
       "12683             0  0  \n",
       "\n",
       "[12684 rows x 26 columns]"
      ]
     },
     "execution_count": 3,
     "metadata": {},
     "output_type": "execute_result"
    }
   ],
   "source": [
    "data"
   ]
  },
  {
   "cell_type": "code",
   "execution_count": 4,
   "id": "347640f8",
   "metadata": {},
   "outputs": [
    {
     "data": {
      "text/plain": [
       "(12684, 26)"
      ]
     },
     "execution_count": 4,
     "metadata": {},
     "output_type": "execute_result"
    }
   ],
   "source": [
    "data.shape"
   ]
  },
  {
   "cell_type": "code",
   "execution_count": 5,
   "id": "c8a0978a",
   "metadata": {},
   "outputs": [
    {
     "name": "stdout",
     "output_type": "stream",
     "text": [
      "<class 'pandas.core.frame.DataFrame'>\n",
      "RangeIndex: 12684 entries, 0 to 12683\n",
      "Data columns (total 26 columns):\n",
      " #   Column                Non-Null Count  Dtype \n",
      "---  ------                --------------  ----- \n",
      " 0   destination           12684 non-null  object\n",
      " 1   passanger             12684 non-null  object\n",
      " 2   weather               12684 non-null  object\n",
      " 3   temperature           12684 non-null  int64 \n",
      " 4   time                  12684 non-null  object\n",
      " 5   coupon                12684 non-null  object\n",
      " 6   expiration            12684 non-null  object\n",
      " 7   gender                12684 non-null  object\n",
      " 8   age                   12684 non-null  object\n",
      " 9   maritalStatus         12684 non-null  object\n",
      " 10  has_children          12684 non-null  int64 \n",
      " 11  education             12684 non-null  object\n",
      " 12  occupation            12684 non-null  object\n",
      " 13  income                12684 non-null  object\n",
      " 14  car                   108 non-null    object\n",
      " 15  Bar                   12577 non-null  object\n",
      " 16  CoffeeHouse           12467 non-null  object\n",
      " 17  CarryAway             12533 non-null  object\n",
      " 18  RestaurantLessThan20  12554 non-null  object\n",
      " 19  Restaurant20To50      12495 non-null  object\n",
      " 20  toCoupon_GEQ5min      12684 non-null  int64 \n",
      " 21  toCoupon_GEQ15min     12684 non-null  int64 \n",
      " 22  toCoupon_GEQ25min     12684 non-null  int64 \n",
      " 23  direction_same        12684 non-null  int64 \n",
      " 24  direction_opp         12684 non-null  int64 \n",
      " 25  Y                     12684 non-null  int64 \n",
      "dtypes: int64(8), object(18)\n",
      "memory usage: 2.5+ MB\n"
     ]
    }
   ],
   "source": [
    "data.info()"
   ]
  },
  {
   "cell_type": "code",
   "execution_count": 6,
   "id": "366638fb",
   "metadata": {},
   "outputs": [
    {
     "data": {
      "text/plain": [
       "car                     99.148534\n",
       "CoffeeHouse              1.710817\n",
       "Restaurant20To50         1.490066\n",
       "CarryAway                1.190476\n",
       "RestaurantLessThan20     1.024913\n",
       "Bar                      0.843582\n",
       "destination              0.000000\n",
       "passanger                0.000000\n",
       "direction_opp            0.000000\n",
       "direction_same           0.000000\n",
       "toCoupon_GEQ25min        0.000000\n",
       "toCoupon_GEQ15min        0.000000\n",
       "toCoupon_GEQ5min         0.000000\n",
       "income                   0.000000\n",
       "occupation               0.000000\n",
       "education                0.000000\n",
       "has_children             0.000000\n",
       "maritalStatus            0.000000\n",
       "age                      0.000000\n",
       "gender                   0.000000\n",
       "expiration               0.000000\n",
       "coupon                   0.000000\n",
       "time                     0.000000\n",
       "temperature              0.000000\n",
       "weather                  0.000000\n",
       "Y                        0.000000\n",
       "dtype: float64"
      ]
     },
     "execution_count": 6,
     "metadata": {},
     "output_type": "execute_result"
    }
   ],
   "source": [
    "data.isnull().sum().sort_values(ascending=False) * 100 /len(data)"
   ]
  },
  {
   "cell_type": "markdown",
   "id": "181071b8",
   "metadata": {},
   "source": [
    "# AS THE CAR FEATURE IS 99.148534% EMPTY I AM DROPPING THIS FEATURE"
   ]
  },
  {
   "cell_type": "code",
   "execution_count": 7,
   "id": "f3f0027f",
   "metadata": {},
   "outputs": [],
   "source": [
    "data.drop(columns=['car'],axis=1,inplace=True)"
   ]
  },
  {
   "cell_type": "code",
   "execution_count": 8,
   "id": "bc461dca",
   "metadata": {},
   "outputs": [
    {
     "data": {
      "text/plain": [
       "CoffeeHouse             1.710817\n",
       "Restaurant20To50        1.490066\n",
       "CarryAway               1.190476\n",
       "RestaurantLessThan20    1.024913\n",
       "Bar                     0.843582\n",
       "dtype: float64"
      ]
     },
     "execution_count": 8,
     "metadata": {},
     "output_type": "execute_result"
    }
   ],
   "source": [
    "data[['CoffeeHouse','Restaurant20To50','CarryAway','RestaurantLessThan20','Bar']].isnull().sum().sort_values(ascending=False) * 100 /len(data)"
   ]
  },
  {
   "cell_type": "markdown",
   "id": "887984da",
   "metadata": {},
   "source": [
    "# AS THE TOTAL EMPTY ROWS CONSTITUTE ONLY 5% OF THE DATA,WE CAN DROP THOSE ROWS ,AS WE KNOW IT WILL NOT AFFECT THE ANALYSIS."
   ]
  },
  {
   "cell_type": "code",
   "execution_count": 9,
   "id": "096d00ed",
   "metadata": {},
   "outputs": [
    {
     "name": "stdout",
     "output_type": "stream",
     "text": [
      "Shape of train data Before dropping any Row:  (12684, 25)\n",
      "Shape of train data After dropping Rows with NULL values:  (12577, 25)\n",
      "Shape of train data After dropping Rows with NULL values:  (12402, 25)\n",
      "Shape of train data After dropping Rows with NULL values:  (12293, 25)\n",
      "Shape of train data After dropping Rows with NULL values:  (12205, 25)\n",
      "Shape of train data After dropping Rows with NULL values:  (12079, 25)\n"
     ]
    }
   ],
   "source": [
    "print(\"Shape of train data Before dropping any Row: \",data.shape)\n",
    "data = data[data['Bar'].notna()]\n",
    "print(\"Shape of train data After dropping Rows with NULL values: \",data.shape)\n",
    "data = data[data['CoffeeHouse'].notna()]\n",
    "print(\"Shape of train data After dropping Rows with NULL values: \",data.shape)\n",
    "data = data[data['CarryAway'].notna()]\n",
    "print(\"Shape of train data After dropping Rows with NULL values: \",data.shape)\n",
    "data = data[data['RestaurantLessThan20'].notna()]\n",
    "print(\"Shape of train data After dropping Rows with NULL values: \",data.shape)\n",
    "data = data[data['Restaurant20To50'].notna()]\n",
    "print(\"Shape of train data After dropping Rows with NULL values: \",data.shape)"
   ]
  },
  {
   "cell_type": "code",
   "execution_count": 10,
   "id": "30ea3f57",
   "metadata": {},
   "outputs": [],
   "source": [
    "data = data.reset_index(drop=True)"
   ]
  },
  {
   "cell_type": "code",
   "execution_count": 11,
   "id": "3be20da2",
   "metadata": {
    "scrolled": false
   },
   "outputs": [
    {
     "name": "stdout",
     "output_type": "stream",
     "text": [
      "<class 'pandas.core.frame.DataFrame'>\n",
      "RangeIndex: 12079 entries, 0 to 12078\n",
      "Data columns (total 25 columns):\n",
      " #   Column                Non-Null Count  Dtype \n",
      "---  ------                --------------  ----- \n",
      " 0   destination           12079 non-null  object\n",
      " 1   passanger             12079 non-null  object\n",
      " 2   weather               12079 non-null  object\n",
      " 3   temperature           12079 non-null  int64 \n",
      " 4   time                  12079 non-null  object\n",
      " 5   coupon                12079 non-null  object\n",
      " 6   expiration            12079 non-null  object\n",
      " 7   gender                12079 non-null  object\n",
      " 8   age                   12079 non-null  object\n",
      " 9   maritalStatus         12079 non-null  object\n",
      " 10  has_children          12079 non-null  int64 \n",
      " 11  education             12079 non-null  object\n",
      " 12  occupation            12079 non-null  object\n",
      " 13  income                12079 non-null  object\n",
      " 14  Bar                   12079 non-null  object\n",
      " 15  CoffeeHouse           12079 non-null  object\n",
      " 16  CarryAway             12079 non-null  object\n",
      " 17  RestaurantLessThan20  12079 non-null  object\n",
      " 18  Restaurant20To50      12079 non-null  object\n",
      " 19  toCoupon_GEQ5min      12079 non-null  int64 \n",
      " 20  toCoupon_GEQ15min     12079 non-null  int64 \n",
      " 21  toCoupon_GEQ25min     12079 non-null  int64 \n",
      " 22  direction_same        12079 non-null  int64 \n",
      " 23  direction_opp         12079 non-null  int64 \n",
      " 24  Y                     12079 non-null  int64 \n",
      "dtypes: int64(8), object(17)\n",
      "memory usage: 2.3+ MB\n"
     ]
    }
   ],
   "source": [
    "data.info()"
   ]
  },
  {
   "cell_type": "code",
   "execution_count": 12,
   "id": "0f3dbfe3",
   "metadata": {
    "scrolled": false
   },
   "outputs": [
    {
     "data": {
      "image/png": "[encoded data removed]",
      "text/plain": [
       "<Figure size 360x360 with 1 Axes>"
      ]
     },
     "metadata": {},
     "output_type": "display_data"
    }
   ],
   "source": [
    "sns.catplot(x='Y',data=data,kind='count')\n",
    "plt.show()"
   ]
  },
  {
   "cell_type": "code",
   "execution_count": 13,
   "id": "756d4dd1",
   "metadata": {
    "scrolled": false
   },
   "outputs": [
    {
     "data": {
      "image/png": "[encoded data removed]",
      "text/plain": [
       "<Figure size 1125.72x1080 with 1 Axes>"
      ]
     },
     "metadata": {},
     "output_type": "display_data"
    }
   ],
   "source": [
    "sns.catplot(x='income',data=data,hue='Y',kind='count',height=15)\n",
    "plt.show()"
   ]
  },
  {
   "cell_type": "markdown",
   "id": "5bf13dc3",
   "metadata": {},
   "source": [
    "# Inference1:The rows with higher income and lowest income  have relatively high acceptance rates when compared to the rows with avg salaries."
   ]
  },
  {
   "cell_type": "code",
   "execution_count": 14,
   "id": "cf9e5cd6",
   "metadata": {
    "scrolled": false
   },
   "outputs": [
    {
     "data": {
      "image/png": "[encoded data removed]",
      "text/plain": [
       "<Figure size 405.725x360 with 1 Axes>"
      ]
     },
     "metadata": {},
     "output_type": "display_data"
    }
   ],
   "source": [
    "sns.catplot(x='gender',data=data,hue='Y',kind='count')\n",
    "plt.show()"
   ]
  },
  {
   "cell_type": "markdown",
   "id": "a3e32d70",
   "metadata": {},
   "source": [
    "# Inference2:Gender feature has not much impact on acceptance rate of coupon as we can see in the plot"
   ]
  },
  {
   "cell_type": "code",
   "execution_count": 15,
   "id": "4828d8f8",
   "metadata": {},
   "outputs": [
    {
     "data": {
      "image/png": "[encoded data removed]",
      "text/plain": [
       "<Figure size 405.725x360 with 1 Axes>"
      ]
     },
     "metadata": {},
     "output_type": "display_data"
    }
   ],
   "source": [
    "sns.catplot(x='time',data=data,hue='Y',kind='count')\n",
    "plt.show()"
   ]
  },
  {
   "cell_type": "markdown",
   "id": "f0dcc260",
   "metadata": {},
   "source": [
    "# Inference3:At 2pm,10am,6pm the acceptance rates are high compared to rejection rates,where as at 7am and 10pm they are almost equal."
   ]
  },
  {
   "cell_type": "code",
   "execution_count": 16,
   "id": "2a45db99",
   "metadata": {},
   "outputs": [
    {
     "data": {
      "image/png": "[encoded data removed]",
      "text/plain": [
       "<Figure size 405.725x360 with 1 Axes>"
      ]
     },
     "metadata": {},
     "output_type": "display_data"
    }
   ],
   "source": [
    "sns.catplot(x='age',data=data,hue='Y',kind='count')\n",
    "plt.show()"
   ]
  },
  {
   "cell_type": "code",
   "execution_count": 17,
   "id": "8ae75fcf",
   "metadata": {},
   "outputs": [
    {
     "data": {
      "image/png": "[encoded data removed]",
      "text/plain": [
       "<Figure size 405.725x360 with 1 Axes>"
      ]
     },
     "metadata": {},
     "output_type": "display_data"
    }
   ],
   "source": [
    "sns.catplot(x='direction_same',data=data,hue='Y',kind='count')\n",
    "plt.show()"
   ]
  },
  {
   "cell_type": "markdown",
   "id": "a458281c",
   "metadata": {},
   "source": [
    "# if the direction is same the acceptance rates are high"
   ]
  },
  {
   "cell_type": "code",
   "execution_count": 18,
   "id": "373f6ffa",
   "metadata": {
    "scrolled": false
   },
   "outputs": [
    {
     "data": {
      "image/png": "[encoded data removed]",
      "text/plain": [
       "<Figure size 405.725x360 with 1 Axes>"
      ]
     },
     "metadata": {},
     "output_type": "display_data"
    }
   ],
   "source": [
    "sns.catplot(x='destination',data=data,hue='Y',kind='count')\n",
    "plt.show()"
   ]
  },
  {
   "cell_type": "markdown",
   "id": "bd969175",
   "metadata": {},
   "source": [
    "# when the destination is no urgent place the acceptance rates are high"
   ]
  },
  {
   "cell_type": "code",
   "execution_count": 19,
   "id": "512aecfa",
   "metadata": {},
   "outputs": [
    {
     "data": {
      "image/png": "[encoded data removed]",
      "text/plain": [
       "<Figure size 405.725x360 with 1 Axes>"
      ]
     },
     "metadata": {},
     "output_type": "display_data"
    }
   ],
   "source": [
    "sns.catplot(x='passanger',data=data,hue='Y',kind='count')\n",
    "plt.show() "
   ]
  },
  {
   "cell_type": "code",
   "execution_count": 20,
   "id": "14733f53",
   "metadata": {
    "scrolled": false
   },
   "outputs": [
    {
     "data": {
      "image/png": "[encoded data removed]",
      "text/plain": [
       "<Figure size 405.725x360 with 1 Axes>"
      ]
     },
     "metadata": {},
     "output_type": "display_data"
    }
   ],
   "source": [
    "sns.catplot(x='expiration',data=data,hue='Y',kind='count')\n",
    "plt.show() "
   ]
  },
  {
   "cell_type": "markdown",
   "id": "eccf2af8",
   "metadata": {},
   "source": [
    "# when the expiration of the coupon offered is 1d the acceptance rates are high"
   ]
  },
  {
   "cell_type": "code",
   "execution_count": 21,
   "id": "ad319566",
   "metadata": {},
   "outputs": [],
   "source": [
    "def visual(s):\n",
    "    sns.countplot(data[s])"
   ]
  },
  {
   "cell_type": "code",
   "execution_count": 22,
   "id": "e00d2c5a",
   "metadata": {},
   "outputs": [
    {
     "name": "stderr",
     "output_type": "stream",
     "text": [
      "C:\\Users\\vigne\\Anaconda3\\lib\\site-packages\\seaborn\\_decorators.py:36: FutureWarning: Pass the following variable as a keyword arg: x. From version 0.12, the only valid positional argument will be `data`, and passing other arguments without an explicit keyword will result in an error or misinterpretation.\n",
      "  warnings.warn(\n"
     ]
    },
    {
     "data": {
      "image/png": "[encoded data removed]",
      "text/plain": [
       "<Figure size 432x432 with 1 Axes>"
      ]
     },
     "metadata": {},
     "output_type": "display_data"
    }
   ],
   "source": [
    "visual('destination')"
   ]
  },
  {
   "cell_type": "code",
   "execution_count": 23,
   "id": "570a88dd",
   "metadata": {},
   "outputs": [
    {
     "name": "stderr",
     "output_type": "stream",
     "text": [
      "C:\\Users\\vigne\\Anaconda3\\lib\\site-packages\\seaborn\\_decorators.py:36: FutureWarning: Pass the following variable as a keyword arg: x. From version 0.12, the only valid positional argument will be `data`, and passing other arguments without an explicit keyword will result in an error or misinterpretation.\n",
      "  warnings.warn(\n"
     ]
    },
    {
     "data": {
      "image/png": "[encoded data removed]",
      "text/plain": [
       "<Figure size 432x432 with 1 Axes>"
      ]
     },
     "metadata": {},
     "output_type": "display_data"
    }
   ],
   "source": [
    "visual('passanger')"
   ]
  },
  {
   "cell_type": "code",
   "execution_count": 24,
   "id": "ea1539a6",
   "metadata": {
    "scrolled": false
   },
   "outputs": [
    {
     "name": "stderr",
     "output_type": "stream",
     "text": [
      "C:\\Users\\vigne\\Anaconda3\\lib\\site-packages\\seaborn\\_decorators.py:36: FutureWarning: Pass the following variable as a keyword arg: x. From version 0.12, the only valid positional argument will be `data`, and passing other arguments without an explicit keyword will result in an error or misinterpretation.\n",
      "  warnings.warn(\n"
     ]
    },
    {
     "data": {
      "image/png": "[encoded data removed]",
      "text/plain": [
       "<Figure size 432x432 with 1 Axes>"
      ]
     },
     "metadata": {},
     "output_type": "display_data"
    }
   ],
   "source": [
    "visual('weather')"
   ]
  },
  {
   "cell_type": "code",
   "execution_count": 25,
   "id": "676efc89",
   "metadata": {},
   "outputs": [
    {
     "name": "stderr",
     "output_type": "stream",
     "text": [
      "C:\\Users\\vigne\\Anaconda3\\lib\\site-packages\\seaborn\\_decorators.py:36: FutureWarning: Pass the following variable as a keyword arg: x. From version 0.12, the only valid positional argument will be `data`, and passing other arguments without an explicit keyword will result in an error or misinterpretation.\n",
      "  warnings.warn(\n"
     ]
    },
    {
     "data": {
      "image/png": "[encoded data removed]",
      "text/plain": [
       "<Figure size 432x432 with 1 Axes>"
      ]
     },
     "metadata": {},
     "output_type": "display_data"
    }
   ],
   "source": [
    "visual('time')"
   ]
  },
  {
   "cell_type": "code",
   "execution_count": 26,
   "id": "92aa04f3",
   "metadata": {},
   "outputs": [
    {
     "name": "stderr",
     "output_type": "stream",
     "text": [
      "C:\\Users\\vigne\\Anaconda3\\lib\\site-packages\\seaborn\\_decorators.py:36: FutureWarning: Pass the following variable as a keyword arg: x. From version 0.12, the only valid positional argument will be `data`, and passing other arguments without an explicit keyword will result in an error or misinterpretation.\n",
      "  warnings.warn(\n"
     ]
    },
    {
     "data": {
      "image/png": "[encoded data removed]",
      "text/plain": [
       "<Figure size 432x432 with 1 Axes>"
      ]
     },
     "metadata": {},
     "output_type": "display_data"
    }
   ],
   "source": [
    "visual('coupon')"
   ]
  },
  {
   "cell_type": "code",
   "execution_count": 27,
   "id": "8f1e4af2",
   "metadata": {},
   "outputs": [
    {
     "name": "stderr",
     "output_type": "stream",
     "text": [
      "C:\\Users\\vigne\\Anaconda3\\lib\\site-packages\\seaborn\\_decorators.py:36: FutureWarning: Pass the following variable as a keyword arg: x. From version 0.12, the only valid positional argument will be `data`, and passing other arguments without an explicit keyword will result in an error or misinterpretation.\n",
      "  warnings.warn(\n"
     ]
    },
    {
     "data": {
      "image/png": "[encoded data removed]",
      "text/plain": [
       "<Figure size 432x432 with 1 Axes>"
      ]
     },
     "metadata": {},
     "output_type": "display_data"
    }
   ],
   "source": [
    "visual('expiration')"
   ]
  },
  {
   "cell_type": "code",
   "execution_count": 28,
   "id": "e190a840",
   "metadata": {},
   "outputs": [
    {
     "name": "stderr",
     "output_type": "stream",
     "text": [
      "C:\\Users\\vigne\\Anaconda3\\lib\\site-packages\\seaborn\\_decorators.py:36: FutureWarning: Pass the following variable as a keyword arg: x. From version 0.12, the only valid positional argument will be `data`, and passing other arguments without an explicit keyword will result in an error or misinterpretation.\n",
      "  warnings.warn(\n"
     ]
    },
    {
     "data": {
      "image/png": "[encoded data removed]",
      "text/plain": [
       "<Figure size 432x432 with 1 Axes>"
      ]
     },
     "metadata": {},
     "output_type": "display_data"
    }
   ],
   "source": [
    "visual('maritalStatus')"
   ]
  },
  {
   "cell_type": "code",
   "execution_count": 29,
   "id": "2b457961",
   "metadata": {},
   "outputs": [
    {
     "name": "stderr",
     "output_type": "stream",
     "text": [
      "C:\\Users\\vigne\\Anaconda3\\lib\\site-packages\\seaborn\\_decorators.py:36: FutureWarning: Pass the following variable as a keyword arg: x. From version 0.12, the only valid positional argument will be `data`, and passing other arguments without an explicit keyword will result in an error or misinterpretation.\n",
      "  warnings.warn(\n"
     ]
    },
    {
     "data": {
      "image/png": "[encoded data removed]",
      "text/plain": [
       "<Figure size 432x432 with 1 Axes>"
      ]
     },
     "metadata": {},
     "output_type": "display_data"
    }
   ],
   "source": [
    "visual('education')"
   ]
  },
  {
   "cell_type": "code",
   "execution_count": 30,
   "id": "f4e2035a",
   "metadata": {},
   "outputs": [
    {
     "name": "stderr",
     "output_type": "stream",
     "text": [
      "C:\\Users\\vigne\\Anaconda3\\lib\\site-packages\\seaborn\\_decorators.py:36: FutureWarning: Pass the following variable as a keyword arg: x. From version 0.12, the only valid positional argument will be `data`, and passing other arguments without an explicit keyword will result in an error or misinterpretation.\n",
      "  warnings.warn(\n"
     ]
    },
    {
     "data": {
      "image/png": "[encoded data removed]",
      "text/plain": [
       "<Figure size 432x432 with 1 Axes>"
      ]
     },
     "metadata": {},
     "output_type": "display_data"
    }
   ],
   "source": [
    "visual('Bar')"
   ]
  },
  {
   "cell_type": "code",
   "execution_count": 31,
   "id": "915e95e9",
   "metadata": {},
   "outputs": [
    {
     "name": "stderr",
     "output_type": "stream",
     "text": [
      "C:\\Users\\vigne\\Anaconda3\\lib\\site-packages\\seaborn\\_decorators.py:36: FutureWarning: Pass the following variable as a keyword arg: x. From version 0.12, the only valid positional argument will be `data`, and passing other arguments without an explicit keyword will result in an error or misinterpretation.\n",
      "  warnings.warn(\n"
     ]
    },
    {
     "data": {
      "image/png": "[encoded data removed]",
      "text/plain": [
       "<Figure size 432x432 with 1 Axes>"
      ]
     },
     "metadata": {},
     "output_type": "display_data"
    }
   ],
   "source": [
    "visual('CoffeeHouse')"
   ]
  },
  {
   "cell_type": "code",
   "execution_count": 32,
   "id": "abea828e",
   "metadata": {},
   "outputs": [
    {
     "name": "stderr",
     "output_type": "stream",
     "text": [
      "C:\\Users\\vigne\\Anaconda3\\lib\\site-packages\\seaborn\\_decorators.py:36: FutureWarning: Pass the following variable as a keyword arg: x. From version 0.12, the only valid positional argument will be `data`, and passing other arguments without an explicit keyword will result in an error or misinterpretation.\n",
      "  warnings.warn(\n"
     ]
    },
    {
     "data": {
      "image/png": "[encoded data removed]",
      "text/plain": [
       "<Figure size 432x432 with 1 Axes>"
      ]
     },
     "metadata": {},
     "output_type": "display_data"
    }
   ],
   "source": [
    "visual('CarryAway')"
   ]
  },
  {
   "cell_type": "code",
   "execution_count": 33,
   "id": "1feed586",
   "metadata": {},
   "outputs": [
    {
     "name": "stderr",
     "output_type": "stream",
     "text": [
      "C:\\Users\\vigne\\Anaconda3\\lib\\site-packages\\seaborn\\_decorators.py:36: FutureWarning: Pass the following variable as a keyword arg: x. From version 0.12, the only valid positional argument will be `data`, and passing other arguments without an explicit keyword will result in an error or misinterpretation.\n",
      "  warnings.warn(\n"
     ]
    },
    {
     "data": {
      "image/png": "[encoded data removed]",
      "text/plain": [
       "<Figure size 432x432 with 1 Axes>"
      ]
     },
     "metadata": {},
     "output_type": "display_data"
    }
   ],
   "source": [
    "visual('income')"
   ]
  },
  {
   "cell_type": "code",
   "execution_count": 34,
   "id": "e0f826bb",
   "metadata": {},
   "outputs": [
    {
     "name": "stderr",
     "output_type": "stream",
     "text": [
      "C:\\Users\\vigne\\Anaconda3\\lib\\site-packages\\seaborn\\_decorators.py:36: FutureWarning: Pass the following variable as a keyword arg: x. From version 0.12, the only valid positional argument will be `data`, and passing other arguments without an explicit keyword will result in an error or misinterpretation.\n",
      "  warnings.warn(\n"
     ]
    },
    {
     "data": {
      "image/png": "[encoded data removed]",
      "text/plain": [
       "<Figure size 432x432 with 1 Axes>"
      ]
     },
     "metadata": {},
     "output_type": "display_data"
    }
   ],
   "source": [
    "visual('Restaurant20To50')"
   ]
  },
  {
   "cell_type": "code",
   "execution_count": 35,
   "id": "f6716b8e",
   "metadata": {},
   "outputs": [
    {
     "name": "stderr",
     "output_type": "stream",
     "text": [
      "C:\\Users\\vigne\\Anaconda3\\lib\\site-packages\\seaborn\\_decorators.py:36: FutureWarning: Pass the following variable as a keyword arg: x. From version 0.12, the only valid positional argument will be `data`, and passing other arguments without an explicit keyword will result in an error or misinterpretation.\n",
      "  warnings.warn(\n"
     ]
    },
    {
     "data": {
      "image/png": "[encoded data removed]",
      "text/plain": [
       "<Figure size 432x432 with 1 Axes>"
      ]
     },
     "metadata": {},
     "output_type": "display_data"
    }
   ],
   "source": [
    "visual('RestaurantLessThan20')"
   ]
  },
  {
   "cell_type": "markdown",
   "id": "eaa1507b",
   "metadata": {},
   "source": [
    "# with respect our data all the features are categorical in nature so we are using lableEncoder to deal with the data which increases the no of features to great extent which not good for ml algorithms"
   ]
  },
  {
   "cell_type": "code",
   "execution_count": 36,
   "id": "e62803c8",
   "metadata": {},
   "outputs": [],
   "source": [
    "df=data"
   ]
  },
  {
   "cell_type": "code",
   "execution_count": 37,
   "id": "0d8b2494",
   "metadata": {},
   "outputs": [],
   "source": [
    "number = LabelEncoder()\n",
    "df['destination'] = number.fit_transform(df['destination'])\n",
    "df['passanger'] = number.fit_transform(df['passanger'])\n",
    "df['weather'] = number.fit_transform(df['weather'])\n",
    "df['time'] = number.fit_transform(df['time'])\n",
    "df['coupon'] = number.fit_transform(df['coupon'])\n",
    "df['expiration'] = number.fit_transform(df['expiration'])\n",
    "df['gender'] = number.fit_transform(df['gender'])\n",
    "df['maritalStatus'] = number.fit_transform(df['maritalStatus'])\n",
    "df['education'] = number.fit_transform(df['education'])\n",
    "df['occupation'] = number.fit_transform(df['occupation'])\n",
    "df['Bar'] = number.fit_transform(df['Bar'])\n",
    "df['CoffeeHouse'] = number.fit_transform(df['CoffeeHouse'])\n",
    "df['CarryAway'] = number.fit_transform(df['CarryAway'])\n",
    "df['income'] = number.fit_transform(df['income'])\n",
    "df['age']=number.fit_transform(df['age'])\n",
    "df['Restaurant20To50'] = number.fit_transform(df['Restaurant20To50'])\n",
    "df['RestaurantLessThan20'] = number.fit_transform(df['RestaurantLessThan20'])"
   ]
  },
  {
   "cell_type": "code",
   "execution_count": 38,
   "id": "d30a40a9",
   "metadata": {},
   "outputs": [
    {
     "name": "stdout",
     "output_type": "stream",
     "text": [
      "<class 'pandas.core.frame.DataFrame'>\n",
      "RangeIndex: 12079 entries, 0 to 12078\n",
      "Data columns (total 25 columns):\n",
      " #   Column                Non-Null Count  Dtype\n",
      "---  ------                --------------  -----\n",
      " 0   destination           12079 non-null  int32\n",
      " 1   passanger             12079 non-null  int32\n",
      " 2   weather               12079 non-null  int32\n",
      " 3   temperature           12079 non-null  int64\n",
      " 4   time                  12079 non-null  int32\n",
      " 5   coupon                12079 non-null  int32\n",
      " 6   expiration            12079 non-null  int32\n",
      " 7   gender                12079 non-null  int32\n",
      " 8   age                   12079 non-null  int32\n",
      " 9   maritalStatus         12079 non-null  int32\n",
      " 10  has_children          12079 non-null  int64\n",
      " 11  education             12079 non-null  int32\n",
      " 12  occupation            12079 non-null  int32\n",
      " 13  income                12079 non-null  int32\n",
      " 14  Bar                   12079 non-null  int32\n",
      " 15  CoffeeHouse           12079 non-null  int32\n",
      " 16  CarryAway             12079 non-null  int32\n",
      " 17  RestaurantLessThan20  12079 non-null  int32\n",
      " 18  Restaurant20To50      12079 non-null  int32\n",
      " 19  toCoupon_GEQ5min      12079 non-null  int64\n",
      " 20  toCoupon_GEQ15min     12079 non-null  int64\n",
      " 21  toCoupon_GEQ25min     12079 non-null  int64\n",
      " 22  direction_same        12079 non-null  int64\n",
      " 23  direction_opp         12079 non-null  int64\n",
      " 24  Y                     12079 non-null  int64\n",
      "dtypes: int32(17), int64(8)\n",
      "memory usage: 1.5 MB\n"
     ]
    }
   ],
   "source": [
    "df.info()"
   ]
  },
  {
   "cell_type": "code",
   "execution_count": 39,
   "id": "5c4e3a35",
   "metadata": {},
   "outputs": [
    {
     "data": {
      "text/html": [
       "<div>\n",
       "<style scoped>\n",
       "    .dataframe tbody tr th:only-of-type {\n",
       "        vertical-align: middle;\n",
       "    }\n",
       "\n",
       "    .dataframe tbody tr th {\n",
       "        vertical-align: top;\n",
       "    }\n",
       "\n",
       "    .dataframe thead th {\n",
       "        text-align: right;\n",
       "    }\n",
       "</style>\n",
       "<table border=\"1\" class=\"dataframe\">\n",
       "  <thead>\n",
       "    <tr style=\"text-align: right;\">\n",
       "      <th></th>\n",
       "      <th>destination</th>\n",
       "      <th>passanger</th>\n",
       "      <th>weather</th>\n",
       "      <th>temperature</th>\n",
       "      <th>time</th>\n",
       "      <th>coupon</th>\n",
       "      <th>expiration</th>\n",
       "      <th>gender</th>\n",
       "      <th>age</th>\n",
       "      <th>maritalStatus</th>\n",
       "      <th>...</th>\n",
       "      <th>Bar</th>\n",
       "      <th>CoffeeHouse</th>\n",
       "      <th>CarryAway</th>\n",
       "      <th>RestaurantLessThan20</th>\n",
       "      <th>Restaurant20To50</th>\n",
       "      <th>toCoupon_GEQ5min</th>\n",
       "      <th>toCoupon_GEQ15min</th>\n",
       "      <th>toCoupon_GEQ25min</th>\n",
       "      <th>direction_same</th>\n",
       "      <th>direction_opp</th>\n",
       "    </tr>\n",
       "  </thead>\n",
       "  <tbody>\n",
       "    <tr>\n",
       "      <th>0</th>\n",
       "      <td>1</td>\n",
       "      <td>0</td>\n",
       "      <td>2</td>\n",
       "      <td>55</td>\n",
       "      <td>2</td>\n",
       "      <td>4</td>\n",
       "      <td>0</td>\n",
       "      <td>1</td>\n",
       "      <td>0</td>\n",
       "      <td>2</td>\n",
       "      <td>...</td>\n",
       "      <td>4</td>\n",
       "      <td>3</td>\n",
       "      <td>1</td>\n",
       "      <td>1</td>\n",
       "      <td>3</td>\n",
       "      <td>1</td>\n",
       "      <td>0</td>\n",
       "      <td>0</td>\n",
       "      <td>0</td>\n",
       "      <td>1</td>\n",
       "    </tr>\n",
       "    <tr>\n",
       "      <th>1</th>\n",
       "      <td>1</td>\n",
       "      <td>1</td>\n",
       "      <td>2</td>\n",
       "      <td>80</td>\n",
       "      <td>0</td>\n",
       "      <td>2</td>\n",
       "      <td>1</td>\n",
       "      <td>1</td>\n",
       "      <td>0</td>\n",
       "      <td>2</td>\n",
       "      <td>...</td>\n",
       "      <td>4</td>\n",
       "      <td>3</td>\n",
       "      <td>1</td>\n",
       "      <td>1</td>\n",
       "      <td>3</td>\n",
       "      <td>1</td>\n",
       "      <td>0</td>\n",
       "      <td>0</td>\n",
       "      <td>0</td>\n",
       "      <td>1</td>\n",
       "    </tr>\n",
       "    <tr>\n",
       "      <th>2</th>\n",
       "      <td>1</td>\n",
       "      <td>1</td>\n",
       "      <td>2</td>\n",
       "      <td>80</td>\n",
       "      <td>0</td>\n",
       "      <td>0</td>\n",
       "      <td>0</td>\n",
       "      <td>1</td>\n",
       "      <td>0</td>\n",
       "      <td>2</td>\n",
       "      <td>...</td>\n",
       "      <td>4</td>\n",
       "      <td>3</td>\n",
       "      <td>1</td>\n",
       "      <td>1</td>\n",
       "      <td>3</td>\n",
       "      <td>1</td>\n",
       "      <td>0</td>\n",
       "      <td>0</td>\n",
       "      <td>0</td>\n",
       "      <td>1</td>\n",
       "    </tr>\n",
       "    <tr>\n",
       "      <th>3</th>\n",
       "      <td>1</td>\n",
       "      <td>1</td>\n",
       "      <td>2</td>\n",
       "      <td>80</td>\n",
       "      <td>0</td>\n",
       "      <td>1</td>\n",
       "      <td>1</td>\n",
       "      <td>1</td>\n",
       "      <td>0</td>\n",
       "      <td>2</td>\n",
       "      <td>...</td>\n",
       "      <td>4</td>\n",
       "      <td>3</td>\n",
       "      <td>1</td>\n",
       "      <td>1</td>\n",
       "      <td>3</td>\n",
       "      <td>1</td>\n",
       "      <td>1</td>\n",
       "      <td>0</td>\n",
       "      <td>0</td>\n",
       "      <td>1</td>\n",
       "    </tr>\n",
       "    <tr>\n",
       "      <th>4</th>\n",
       "      <td>1</td>\n",
       "      <td>1</td>\n",
       "      <td>2</td>\n",
       "      <td>80</td>\n",
       "      <td>2</td>\n",
       "      <td>2</td>\n",
       "      <td>0</td>\n",
       "      <td>1</td>\n",
       "      <td>0</td>\n",
       "      <td>2</td>\n",
       "      <td>...</td>\n",
       "      <td>4</td>\n",
       "      <td>3</td>\n",
       "      <td>1</td>\n",
       "      <td>1</td>\n",
       "      <td>3</td>\n",
       "      <td>1</td>\n",
       "      <td>0</td>\n",
       "      <td>0</td>\n",
       "      <td>0</td>\n",
       "      <td>1</td>\n",
       "    </tr>\n",
       "  </tbody>\n",
       "</table>\n",
       "<p>5 rows × 24 columns</p>\n",
       "</div>"
      ],
      "text/plain": [
       "   destination  passanger  weather  temperature  time  coupon  expiration  \\\n",
       "0            1          0        2           55     2       4           0   \n",
       "1            1          1        2           80     0       2           1   \n",
       "2            1          1        2           80     0       0           0   \n",
       "3            1          1        2           80     0       1           1   \n",
       "4            1          1        2           80     2       2           0   \n",
       "\n",
       "   gender  age  maritalStatus  ...  Bar  CoffeeHouse  CarryAway  \\\n",
       "0       1    0              2  ...    4            3          1   \n",
       "1       1    0              2  ...    4            3          1   \n",
       "2       1    0              2  ...    4            3          1   \n",
       "3       1    0              2  ...    4            3          1   \n",
       "4       1    0              2  ...    4            3          1   \n",
       "\n",
       "   RestaurantLessThan20  Restaurant20To50  toCoupon_GEQ5min  \\\n",
       "0                     1                 3                 1   \n",
       "1                     1                 3                 1   \n",
       "2                     1                 3                 1   \n",
       "3                     1                 3                 1   \n",
       "4                     1                 3                 1   \n",
       "\n",
       "   toCoupon_GEQ15min  toCoupon_GEQ25min  direction_same  direction_opp  \n",
       "0                  0                  0               0              1  \n",
       "1                  0                  0               0              1  \n",
       "2                  0                  0               0              1  \n",
       "3                  1                  0               0              1  \n",
       "4                  0                  0               0              1  \n",
       "\n",
       "[5 rows x 24 columns]"
      ]
     },
     "execution_count": 39,
     "metadata": {},
     "output_type": "execute_result"
    }
   ],
   "source": [
    "X = df.drop(['Y'],axis=1)\n",
    "y = df['Y']\n",
    "X.head()"
   ]
  },
  {
   "cell_type": "code",
   "execution_count": 40,
   "id": "afb8b20c",
   "metadata": {},
   "outputs": [],
   "source": [
    "X_train, X_test, y_train, y_test = train_test_split(X, y, test_size = 0.3,random_state=0)"
   ]
  },
  {
   "cell_type": "code",
   "execution_count": 41,
   "id": "9442eb54",
   "metadata": {},
   "outputs": [
    {
     "data": {
      "text/plain": [
       "array([0, 5, 1, 2, 4, 6, 3, 7])"
      ]
     },
     "execution_count": 41,
     "metadata": {},
     "output_type": "execute_result"
    }
   ],
   "source": [
    "data['age'].unique()"
   ]
  },
  {
   "cell_type": "code",
   "execution_count": 42,
   "id": "f522eddd",
   "metadata": {},
   "outputs": [],
   "source": [
    "from sklearn.preprocessing import StandardScaler\n",
    "scaler = StandardScaler()\n",
    "X_train = pd.DataFrame(scaler.fit_transform(X_train), columns = X.columns)\n",
    "X_test = pd.DataFrame(scaler.transform(X_test), columns = X.columns)"
   ]
  },
  {
   "cell_type": "code",
   "execution_count": 43,
   "id": "2adf2ee0",
   "metadata": {},
   "outputs": [
    {
     "data": {
      "text/html": [
       "<div>\n",
       "<style scoped>\n",
       "    .dataframe tbody tr th:only-of-type {\n",
       "        vertical-align: middle;\n",
       "    }\n",
       "\n",
       "    .dataframe tbody tr th {\n",
       "        vertical-align: top;\n",
       "    }\n",
       "\n",
       "    .dataframe thead th {\n",
       "        text-align: right;\n",
       "    }\n",
       "</style>\n",
       "<table border=\"1\" class=\"dataframe\">\n",
       "  <thead>\n",
       "    <tr style=\"text-align: right;\">\n",
       "      <th></th>\n",
       "      <th>destination</th>\n",
       "      <th>passanger</th>\n",
       "      <th>weather</th>\n",
       "      <th>temperature</th>\n",
       "      <th>time</th>\n",
       "      <th>coupon</th>\n",
       "      <th>expiration</th>\n",
       "      <th>gender</th>\n",
       "      <th>age</th>\n",
       "      <th>maritalStatus</th>\n",
       "      <th>...</th>\n",
       "      <th>Bar</th>\n",
       "      <th>CoffeeHouse</th>\n",
       "      <th>CarryAway</th>\n",
       "      <th>RestaurantLessThan20</th>\n",
       "      <th>Restaurant20To50</th>\n",
       "      <th>toCoupon_GEQ5min</th>\n",
       "      <th>toCoupon_GEQ15min</th>\n",
       "      <th>toCoupon_GEQ25min</th>\n",
       "      <th>direction_same</th>\n",
       "      <th>direction_opp</th>\n",
       "    </tr>\n",
       "  </thead>\n",
       "  <tbody>\n",
       "    <tr>\n",
       "      <th>0</th>\n",
       "      <td>0.009051</td>\n",
       "      <td>1.411398</td>\n",
       "      <td>0.472285</td>\n",
       "      <td>-0.442120</td>\n",
       "      <td>-0.151913</td>\n",
       "      <td>1.428696</td>\n",
       "      <td>-0.892762</td>\n",
       "      <td>-0.972351</td>\n",
       "      <td>0.626244</td>\n",
       "      <td>-0.849800</td>\n",
       "      <td>...</td>\n",
       "      <td>0.886295</td>\n",
       "      <td>0.587034</td>\n",
       "      <td>-0.066055</td>\n",
       "      <td>-0.912704</td>\n",
       "      <td>0.510593</td>\n",
       "      <td>0.0</td>\n",
       "      <td>0.882328</td>\n",
       "      <td>-0.362082</td>\n",
       "      <td>-0.515847</td>\n",
       "      <td>0.515847</td>\n",
       "    </tr>\n",
       "    <tr>\n",
       "      <th>1</th>\n",
       "      <td>-1.408156</td>\n",
       "      <td>-0.720322</td>\n",
       "      <td>0.472285</td>\n",
       "      <td>0.870885</td>\n",
       "      <td>0.541621</td>\n",
       "      <td>1.428696</td>\n",
       "      <td>-0.892762</td>\n",
       "      <td>-0.972351</td>\n",
       "      <td>1.523684</td>\n",
       "      <td>0.357367</td>\n",
       "      <td>...</td>\n",
       "      <td>0.886295</td>\n",
       "      <td>1.237797</td>\n",
       "      <td>1.780208</td>\n",
       "      <td>2.565340</td>\n",
       "      <td>1.181050</td>\n",
       "      <td>0.0</td>\n",
       "      <td>-1.133366</td>\n",
       "      <td>-0.362082</td>\n",
       "      <td>1.938561</td>\n",
       "      <td>-1.938561</td>\n",
       "    </tr>\n",
       "    <tr>\n",
       "      <th>2</th>\n",
       "      <td>-1.408156</td>\n",
       "      <td>-0.720322</td>\n",
       "      <td>0.472285</td>\n",
       "      <td>0.870885</td>\n",
       "      <td>0.541621</td>\n",
       "      <td>-0.049024</td>\n",
       "      <td>-0.892762</td>\n",
       "      <td>1.028435</td>\n",
       "      <td>-0.719916</td>\n",
       "      <td>0.357367</td>\n",
       "      <td>...</td>\n",
       "      <td>-1.042566</td>\n",
       "      <td>-0.063729</td>\n",
       "      <td>0.857077</td>\n",
       "      <td>-0.043193</td>\n",
       "      <td>0.510593</td>\n",
       "      <td>0.0</td>\n",
       "      <td>-1.133366</td>\n",
       "      <td>-0.362082</td>\n",
       "      <td>-0.515847</td>\n",
       "      <td>0.515847</td>\n",
       "    </tr>\n",
       "    <tr>\n",
       "      <th>3</th>\n",
       "      <td>0.009051</td>\n",
       "      <td>-0.720322</td>\n",
       "      <td>0.472285</td>\n",
       "      <td>0.870885</td>\n",
       "      <td>-1.538982</td>\n",
       "      <td>-1.526745</td>\n",
       "      <td>-0.892762</td>\n",
       "      <td>-0.972351</td>\n",
       "      <td>-0.719916</td>\n",
       "      <td>0.357367</td>\n",
       "      <td>...</td>\n",
       "      <td>0.886295</td>\n",
       "      <td>0.587034</td>\n",
       "      <td>-0.989186</td>\n",
       "      <td>-0.043193</td>\n",
       "      <td>1.181050</td>\n",
       "      <td>0.0</td>\n",
       "      <td>-1.133366</td>\n",
       "      <td>-0.362082</td>\n",
       "      <td>-0.515847</td>\n",
       "      <td>0.515847</td>\n",
       "    </tr>\n",
       "    <tr>\n",
       "      <th>4</th>\n",
       "      <td>1.426259</td>\n",
       "      <td>-0.720322</td>\n",
       "      <td>-2.708255</td>\n",
       "      <td>-0.442120</td>\n",
       "      <td>1.235155</td>\n",
       "      <td>-0.787884</td>\n",
       "      <td>-0.892762</td>\n",
       "      <td>1.028435</td>\n",
       "      <td>-0.271196</td>\n",
       "      <td>-0.849800</td>\n",
       "      <td>...</td>\n",
       "      <td>-1.685519</td>\n",
       "      <td>-1.365256</td>\n",
       "      <td>-0.066055</td>\n",
       "      <td>-0.043193</td>\n",
       "      <td>-0.830319</td>\n",
       "      <td>0.0</td>\n",
       "      <td>-1.133366</td>\n",
       "      <td>-0.362082</td>\n",
       "      <td>-0.515847</td>\n",
       "      <td>0.515847</td>\n",
       "    </tr>\n",
       "  </tbody>\n",
       "</table>\n",
       "<p>5 rows × 24 columns</p>\n",
       "</div>"
      ],
      "text/plain": [
       "   destination  passanger   weather  temperature      time    coupon  \\\n",
       "0     0.009051   1.411398  0.472285    -0.442120 -0.151913  1.428696   \n",
       "1    -1.408156  -0.720322  0.472285     0.870885  0.541621  1.428696   \n",
       "2    -1.408156  -0.720322  0.472285     0.870885  0.541621 -0.049024   \n",
       "3     0.009051  -0.720322  0.472285     0.870885 -1.538982 -1.526745   \n",
       "4     1.426259  -0.720322 -2.708255    -0.442120  1.235155 -0.787884   \n",
       "\n",
       "   expiration    gender       age  maritalStatus  ...       Bar  CoffeeHouse  \\\n",
       "0   -0.892762 -0.972351  0.626244      -0.849800  ...  0.886295     0.587034   \n",
       "1   -0.892762 -0.972351  1.523684       0.357367  ...  0.886295     1.237797   \n",
       "2   -0.892762  1.028435 -0.719916       0.357367  ... -1.042566    -0.063729   \n",
       "3   -0.892762 -0.972351 -0.719916       0.357367  ...  0.886295     0.587034   \n",
       "4   -0.892762  1.028435 -0.271196      -0.849800  ... -1.685519    -1.365256   \n",
       "\n",
       "   CarryAway  RestaurantLessThan20  Restaurant20To50  toCoupon_GEQ5min  \\\n",
       "0  -0.066055             -0.912704          0.510593               0.0   \n",
       "1   1.780208              2.565340          1.181050               0.0   \n",
       "2   0.857077             -0.043193          0.510593               0.0   \n",
       "3  -0.989186             -0.043193          1.181050               0.0   \n",
       "4  -0.066055             -0.043193         -0.830319               0.0   \n",
       "\n",
       "   toCoupon_GEQ15min  toCoupon_GEQ25min  direction_same  direction_opp  \n",
       "0           0.882328          -0.362082       -0.515847       0.515847  \n",
       "1          -1.133366          -0.362082        1.938561      -1.938561  \n",
       "2          -1.133366          -0.362082       -0.515847       0.515847  \n",
       "3          -1.133366          -0.362082       -0.515847       0.515847  \n",
       "4          -1.133366          -0.362082       -0.515847       0.515847  \n",
       "\n",
       "[5 rows x 24 columns]"
      ]
     },
     "execution_count": 43,
     "metadata": {},
     "output_type": "execute_result"
    }
   ],
   "source": [
    "X_train.head()"
   ]
  },
  {
   "cell_type": "code",
   "execution_count": 44,
   "id": "82b9998c",
   "metadata": {},
   "outputs": [
    {
     "data": {
      "text/html": [
       "<table class=\"simpletable\">\n",
       "<caption>OLS Regression Results</caption>\n",
       "<tr>\n",
       "  <th>Dep. Variable:</th>            <td>Y</td>        <th>  R-squared:         </th> <td>   0.084</td> \n",
       "</tr>\n",
       "<tr>\n",
       "  <th>Model:</th>                   <td>OLS</td>       <th>  Adj. R-squared:    </th> <td>   0.082</td> \n",
       "</tr>\n",
       "<tr>\n",
       "  <th>Method:</th>             <td>Least Squares</td>  <th>  F-statistic:       </th> <td>   50.18</td> \n",
       "</tr>\n",
       "<tr>\n",
       "  <th>Date:</th>             <td>Tue, 16 Nov 2021</td> <th>  Prob (F-statistic):</th> <td>1.27e-209</td>\n",
       "</tr>\n",
       "<tr>\n",
       "  <th>Time:</th>                 <td>15:03:20</td>     <th>  Log-Likelihood:    </th> <td> -8120.4</td> \n",
       "</tr>\n",
       "<tr>\n",
       "  <th>No. Observations:</th>      <td> 12079</td>      <th>  AIC:               </th> <td>1.629e+04</td>\n",
       "</tr>\n",
       "<tr>\n",
       "  <th>Df Residuals:</th>          <td> 12056</td>      <th>  BIC:               </th> <td>1.646e+04</td>\n",
       "</tr>\n",
       "<tr>\n",
       "  <th>Df Model:</th>              <td>    22</td>      <th>                     </th>     <td> </td>    \n",
       "</tr>\n",
       "<tr>\n",
       "  <th>Covariance Type:</th>      <td>nonrobust</td>    <th>                     </th>     <td> </td>    \n",
       "</tr>\n",
       "</table>\n",
       "<table class=\"simpletable\">\n",
       "<tr>\n",
       "            <td></td>              <th>coef</th>     <th>std err</th>      <th>t</th>      <th>P>|t|</th>  <th>[0.025</th>    <th>0.975]</th>  \n",
       "</tr>\n",
       "<tr>\n",
       "  <th>destination</th>          <td>    0.0330</td> <td>    0.007</td> <td>    4.754</td> <td> 0.000</td> <td>    0.019</td> <td>    0.047</td>\n",
       "</tr>\n",
       "<tr>\n",
       "  <th>passanger</th>            <td>    0.0208</td> <td>    0.005</td> <td>    4.018</td> <td> 0.000</td> <td>    0.011</td> <td>    0.031</td>\n",
       "</tr>\n",
       "<tr>\n",
       "  <th>weather</th>              <td>    0.0522</td> <td>    0.008</td> <td>    6.741</td> <td> 0.000</td> <td>    0.037</td> <td>    0.067</td>\n",
       "</tr>\n",
       "<tr>\n",
       "  <th>temperature</th>          <td>    0.0003</td> <td>    0.000</td> <td>    1.182</td> <td> 0.237</td> <td>   -0.000</td> <td>    0.001</td>\n",
       "</tr>\n",
       "<tr>\n",
       "  <th>time</th>                 <td>   -0.0253</td> <td>    0.004</td> <td>   -6.343</td> <td> 0.000</td> <td>   -0.033</td> <td>   -0.017</td>\n",
       "</tr>\n",
       "<tr>\n",
       "  <th>coupon</th>               <td>    0.0397</td> <td>    0.003</td> <td>   11.735</td> <td> 0.000</td> <td>    0.033</td> <td>    0.046</td>\n",
       "</tr>\n",
       "<tr>\n",
       "  <th>expiration</th>           <td>   -0.1624</td> <td>    0.009</td> <td>  -18.084</td> <td> 0.000</td> <td>   -0.180</td> <td>   -0.145</td>\n",
       "</tr>\n",
       "<tr>\n",
       "  <th>gender</th>               <td>    0.0435</td> <td>    0.009</td> <td>    4.896</td> <td> 0.000</td> <td>    0.026</td> <td>    0.061</td>\n",
       "</tr>\n",
       "<tr>\n",
       "  <th>age</th>                  <td>   -0.0031</td> <td>    0.002</td> <td>   -1.502</td> <td> 0.133</td> <td>   -0.007</td> <td>    0.001</td>\n",
       "</tr>\n",
       "<tr>\n",
       "  <th>maritalStatus</th>        <td>    0.0022</td> <td>    0.006</td> <td>    0.372</td> <td> 0.710</td> <td>   -0.009</td> <td>    0.014</td>\n",
       "</tr>\n",
       "<tr>\n",
       "  <th>has_children</th>         <td>   -0.0215</td> <td>    0.010</td> <td>   -2.066</td> <td> 0.039</td> <td>   -0.042</td> <td>   -0.001</td>\n",
       "</tr>\n",
       "<tr>\n",
       "  <th>education</th>            <td>    0.0103</td> <td>    0.002</td> <td>    4.398</td> <td> 0.000</td> <td>    0.006</td> <td>    0.015</td>\n",
       "</tr>\n",
       "<tr>\n",
       "  <th>occupation</th>           <td>    0.0006</td> <td>    0.001</td> <td>    1.144</td> <td> 0.253</td> <td>   -0.000</td> <td>    0.002</td>\n",
       "</tr>\n",
       "<tr>\n",
       "  <th>income</th>               <td>   -0.0067</td> <td>    0.002</td> <td>   -3.734</td> <td> 0.000</td> <td>   -0.010</td> <td>   -0.003</td>\n",
       "</tr>\n",
       "<tr>\n",
       "  <th>Bar</th>                  <td>   -0.0132</td> <td>    0.003</td> <td>   -4.408</td> <td> 0.000</td> <td>   -0.019</td> <td>   -0.007</td>\n",
       "</tr>\n",
       "<tr>\n",
       "  <th>CoffeeHouse</th>          <td>   -0.0454</td> <td>    0.003</td> <td>  -15.646</td> <td> 0.000</td> <td>   -0.051</td> <td>   -0.040</td>\n",
       "</tr>\n",
       "<tr>\n",
       "  <th>CarryAway</th>            <td>   -0.0071</td> <td>    0.004</td> <td>   -1.767</td> <td> 0.077</td> <td>   -0.015</td> <td>    0.001</td>\n",
       "</tr>\n",
       "<tr>\n",
       "  <th>RestaurantLessThan20</th> <td>    0.0098</td> <td>    0.004</td> <td>    2.553</td> <td> 0.011</td> <td>    0.002</td> <td>    0.017</td>\n",
       "</tr>\n",
       "<tr>\n",
       "  <th>Restaurant20To50</th>     <td>   -0.0112</td> <td>    0.003</td> <td>   -3.732</td> <td> 0.000</td> <td>   -0.017</td> <td>   -0.005</td>\n",
       "</tr>\n",
       "<tr>\n",
       "  <th>toCoupon_GEQ5min</th>     <td>    0.4201</td> <td>    0.019</td> <td>   21.671</td> <td> 0.000</td> <td>    0.382</td> <td>    0.458</td>\n",
       "</tr>\n",
       "<tr>\n",
       "  <th>toCoupon_GEQ15min</th>    <td>   -0.0271</td> <td>    0.010</td> <td>   -2.775</td> <td> 0.006</td> <td>   -0.046</td> <td>   -0.008</td>\n",
       "</tr>\n",
       "<tr>\n",
       "  <th>toCoupon_GEQ25min</th>    <td>   -0.0579</td> <td>    0.016</td> <td>   -3.664</td> <td> 0.000</td> <td>   -0.089</td> <td>   -0.027</td>\n",
       "</tr>\n",
       "<tr>\n",
       "  <th>direction_same</th>       <td>    0.2400</td> <td>    0.012</td> <td>   19.752</td> <td> 0.000</td> <td>    0.216</td> <td>    0.264</td>\n",
       "</tr>\n",
       "<tr>\n",
       "  <th>direction_opp</th>        <td>    0.1801</td> <td>    0.011</td> <td>   16.297</td> <td> 0.000</td> <td>    0.158</td> <td>    0.202</td>\n",
       "</tr>\n",
       "</table>\n",
       "<table class=\"simpletable\">\n",
       "<tr>\n",
       "  <th>Omnibus:</th>       <td>59346.175</td> <th>  Durbin-Watson:     </th> <td>   1.743</td> \n",
       "</tr>\n",
       "<tr>\n",
       "  <th>Prob(Omnibus):</th>  <td> 0.000</td>   <th>  Jarque-Bera (JB):  </th> <td>1415.335</td> \n",
       "</tr>\n",
       "<tr>\n",
       "  <th>Skew:</th>           <td>-0.241</td>   <th>  Prob(JB):          </th> <td>4.61e-308</td>\n",
       "</tr>\n",
       "<tr>\n",
       "  <th>Kurtosis:</th>       <td> 1.394</td>   <th>  Cond. No.          </th> <td>1.43e+17</td> \n",
       "</tr>\n",
       "</table><br/><br/>Notes:<br/>[1] Standard Errors assume that the covariance matrix of the errors is correctly specified.<br/>[2] The smallest eigenvalue is 2.72e-27. This might indicate that there are<br/>strong multicollinearity problems or that the design matrix is singular."
      ],
      "text/plain": [
       "<class 'statsmodels.iolib.summary.Summary'>\n",
       "\"\"\"\n",
       "                            OLS Regression Results                            \n",
       "==============================================================================\n",
       "Dep. Variable:                      Y   R-squared:                       0.084\n",
       "Model:                            OLS   Adj. R-squared:                  0.082\n",
       "Method:                 Least Squares   F-statistic:                     50.18\n",
       "Date:                Tue, 16 Nov 2021   Prob (F-statistic):          1.27e-209\n",
       "Time:                        15:03:20   Log-Likelihood:                -8120.4\n",
       "No. Observations:               12079   AIC:                         1.629e+04\n",
       "Df Residuals:                   12056   BIC:                         1.646e+04\n",
       "Df Model:                          22                                         \n",
       "Covariance Type:            nonrobust                                         \n",
       "========================================================================================\n",
       "                           coef    std err          t      P>|t|      [0.025      0.975]\n",
       "----------------------------------------------------------------------------------------\n",
       "destination              0.0330      0.007      4.754      0.000       0.019       0.047\n",
       "passanger                0.0208      0.005      4.018      0.000       0.011       0.031\n",
       "weather                  0.0522      0.008      6.741      0.000       0.037       0.067\n",
       "temperature              0.0003      0.000      1.182      0.237      -0.000       0.001\n",
       "time                    -0.0253      0.004     -6.343      0.000      -0.033      -0.017\n",
       "coupon                   0.0397      0.003     11.735      0.000       0.033       0.046\n",
       "expiration              -0.1624      0.009    -18.084      0.000      -0.180      -0.145\n",
       "gender                   0.0435      0.009      4.896      0.000       0.026       0.061\n",
       "age                     -0.0031      0.002     -1.502      0.133      -0.007       0.001\n",
       "maritalStatus            0.0022      0.006      0.372      0.710      -0.009       0.014\n",
       "has_children            -0.0215      0.010     -2.066      0.039      -0.042      -0.001\n",
       "education                0.0103      0.002      4.398      0.000       0.006       0.015\n",
       "occupation               0.0006      0.001      1.144      0.253      -0.000       0.002\n",
       "income                  -0.0067      0.002     -3.734      0.000      -0.010      -0.003\n",
       "Bar                     -0.0132      0.003     -4.408      0.000      -0.019      -0.007\n",
       "CoffeeHouse             -0.0454      0.003    -15.646      0.000      -0.051      -0.040\n",
       "CarryAway               -0.0071      0.004     -1.767      0.077      -0.015       0.001\n",
       "RestaurantLessThan20     0.0098      0.004      2.553      0.011       0.002       0.017\n",
       "Restaurant20To50        -0.0112      0.003     -3.732      0.000      -0.017      -0.005\n",
       "toCoupon_GEQ5min         0.4201      0.019     21.671      0.000       0.382       0.458\n",
       "toCoupon_GEQ15min       -0.0271      0.010     -2.775      0.006      -0.046      -0.008\n",
       "toCoupon_GEQ25min       -0.0579      0.016     -3.664      0.000      -0.089      -0.027\n",
       "direction_same           0.2400      0.012     19.752      0.000       0.216       0.264\n",
       "direction_opp            0.1801      0.011     16.297      0.000       0.158       0.202\n",
       "==============================================================================\n",
       "Omnibus:                    59346.175   Durbin-Watson:                   1.743\n",
       "Prob(Omnibus):                  0.000   Jarque-Bera (JB):             1415.335\n",
       "Skew:                          -0.241   Prob(JB):                    4.61e-308\n",
       "Kurtosis:                       1.394   Cond. No.                     1.43e+17\n",
       "==============================================================================\n",
       "\n",
       "Notes:\n",
       "[1] Standard Errors assume that the covariance matrix of the errors is correctly specified.\n",
       "[2] The smallest eigenvalue is 2.72e-27. This might indicate that there are\n",
       "strong multicollinearity problems or that the design matrix is singular.\n",
       "\"\"\""
      ]
     },
     "execution_count": 44,
     "metadata": {},
     "output_type": "execute_result"
    }
   ],
   "source": [
    "x= sm.add_constant(X)\n",
    "results = sm.OLS(y,x).fit()\n",
    "results.summary()"
   ]
  },
  {
   "cell_type": "markdown",
   "id": "b408d132",
   "metadata": {},
   "source": [
    "#  inference : from the above summary the r -square and adj r-squre are very low so we can't apply linear regression model"
   ]
  },
  {
   "cell_type": "code",
   "execution_count": 45,
   "id": "802f2f00",
   "metadata": {},
   "outputs": [
    {
     "name": "stdout",
     "output_type": "stream",
     "text": [
      "              precision    recall  f1-score   support\n",
      "\n",
      "           0       0.60      0.46      0.52      1545\n",
      "           1       0.66      0.77      0.71      2079\n",
      "\n",
      "    accuracy                           0.64      3624\n",
      "   macro avg       0.63      0.61      0.61      3624\n",
      "weighted avg       0.63      0.64      0.63      3624\n",
      "\n",
      "The accuracy of the Logistic Regression model is 0.6371412803532008\n"
     ]
    }
   ],
   "source": [
    "# Logistic Regression\n",
    "LR = LogisticRegression()\n",
    "LR.fit(X_train, y_train)\n",
    "y_pred = LR.predict(X_test)\n",
    "score_LR = LR.score(X_test,y_test)\n",
    "print(classification_report(y_test, y_pred))\n",
    "print('The accuracy of the Logistic Regression model is', score_LR)"
   ]
  },
  {
   "cell_type": "code",
   "execution_count": 46,
   "id": "58343bba",
   "metadata": {},
   "outputs": [
    {
     "name": "stdout",
     "output_type": "stream",
     "text": [
      "              precision    recall  f1-score   support\n",
      "\n",
      "           0       0.64      0.54      0.59      1545\n",
      "           1       0.69      0.77      0.73      2079\n",
      "\n",
      "    accuracy                           0.67      3624\n",
      "   macro avg       0.67      0.66      0.66      3624\n",
      "weighted avg       0.67      0.67      0.67      3624\n",
      "\n",
      "The accuracy of SVC model is 0.6746688741721855\n"
     ]
    }
   ],
   "source": [
    "# Support Vector Classifier (SVM/SVC)\n",
    "from sklearn.svm import SVC\n",
    "svc = SVC(gamma=0.22)\n",
    "svc.fit(X_train, y_train)\n",
    "y_pred = svc.predict(X_test)\n",
    "score_svc = svc.score(X_test,y_test)\n",
    "print(classification_report(y_test, y_pred))\n",
    "print('The accuracy of SVC model is', score_svc)"
   ]
  },
  {
   "cell_type": "code",
   "execution_count": 47,
   "id": "12f3f630",
   "metadata": {},
   "outputs": [
    {
     "name": "stdout",
     "output_type": "stream",
     "text": [
      "              precision    recall  f1-score   support\n",
      "\n",
      "           0       0.62      0.65      0.63      1545\n",
      "           1       0.73      0.70      0.71      2079\n",
      "\n",
      "    accuracy                           0.68      3624\n",
      "   macro avg       0.67      0.68      0.67      3624\n",
      "weighted avg       0.68      0.68      0.68      3624\n",
      "\n",
      "The accuracy of the Decision tree model is  0.6793598233995585\n"
     ]
    }
   ],
   "source": [
    "# Decision Tree\n",
    "DT = DecisionTreeClassifier()\n",
    "DT.fit(X_train,y_train)\n",
    "y_pred = DT.predict(X_test)\n",
    "score_DT = DT.score(X_test,y_test)\n",
    "print(classification_report(y_test, y_pred))\n",
    "print(\"The accuracy of the Decision tree model is \",score_DT)"
   ]
  },
  {
   "cell_type": "code",
   "execution_count": 48,
   "id": "75b6754c",
   "metadata": {},
   "outputs": [
    {
     "name": "stdout",
     "output_type": "stream",
     "text": [
      "              precision    recall  f1-score   support\n",
      "\n",
      "           0       0.59      0.55      0.57      1545\n",
      "           1       0.68      0.71      0.70      2079\n",
      "\n",
      "    accuracy                           0.64      3624\n",
      "   macro avg       0.63      0.63      0.63      3624\n",
      "weighted avg       0.64      0.64      0.64      3624\n",
      "\n",
      "The accuracy of the KNN Model is 0.6421081677704195\n"
     ]
    }
   ],
   "source": [
    "knn = KNeighborsClassifier()\n",
    "knn.fit(X_train, y_train)\n",
    "y_pred = knn.predict(X_test)\n",
    "score_knn = knn.score(X_test,y_test)\n",
    "print(classification_report(y_test, y_pred))\n",
    "print('The accuracy of the KNN Model is',score_knn)"
   ]
  },
  {
   "cell_type": "code",
   "execution_count": 49,
   "id": "9ee1b605",
   "metadata": {},
   "outputs": [
    {
     "name": "stdout",
     "output_type": "stream",
     "text": [
      "              precision    recall  f1-score   support\n",
      "\n",
      "           0       0.56      0.40      0.47      1545\n",
      "           1       0.63      0.77      0.69      2079\n",
      "\n",
      "    accuracy                           0.61      3624\n",
      "   macro avg       0.60      0.58      0.58      3624\n",
      "weighted avg       0.60      0.61      0.60      3624\n",
      "\n",
      "The accuracy of the Naive Bayes Model is 0.6106512141280354\n"
     ]
    }
   ],
   "source": [
    "from sklearn.naive_bayes import GaussianNB\n",
    "model = GaussianNB()\n",
    "model.fit(X_train,y_train)\n",
    "y_pred = model.predict(X_test)\n",
    "accuracy=model.score(X_test,y_test)\n",
    "print(classification_report(y_test, y_pred))\n",
    "print('The accuracy of the Naive Bayes Model is',accuracy)"
   ]
  },
  {
   "cell_type": "code",
   "execution_count": null,
   "id": "40815e40",
   "metadata": {},
   "outputs": [],
   "source": []
  }
 ],
 "metadata": {
  "kernelspec": {
   "display_name": "Python 3",
   "language": "python",
   "name": "python3"
  },
  "language_info": {
   "codemirror_mode": {
    "name": "ipython",
    "version": 3
   },
   "file_extension": ".py",
   "mimetype": "text/x-python",
   "name": "python",
   "nbconvert_exporter": "python",
   "pygments_lexer": "ipython3",
   "version": "3.8.8"
  }
 },
 "nbformat": 4,
 "nbformat_minor": 5
}
